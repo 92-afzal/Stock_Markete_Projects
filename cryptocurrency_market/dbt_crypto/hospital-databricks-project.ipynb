{
 "cells": [
  {
   "cell_type": "code",
   "execution_count": null,
   "id": "7065b0aa",
   "metadata": {},
   "outputs": [],
   "source": [
    "from pyspark.sql.functions import *\n",
    "\n",
    "# Azure Event Hub Configuration\n",
    "event_hub_namespace = \"hospital-data-analytics.servicebus.windows.net\"\n",
    "event_hub_name = \"hospital-analytics-eh\"\n",
    "event_hub_conn_str = dbutils.secrets.get(scope = \"hospitalkeyvault\", key = \"eventhub-conn\")\n",
    "\n",
    "kafka_options = {\n",
    "    \"kafka.bootstrap.servers\": f\"{event_hub_namespace}:9093\",\n",
    "    \"subscribe\": event_hub_name,\n",
    "    \"kafka.security.protocol\": \"SASL_SSL\",\n",
    "    \"kafka.sasl.mechanism\": \"PLAIN\",\n",
    "    \"kafka.sasl.jaas.config\": f'kafkashaded.org.apache.kafka.common.security.plain.PlainLoginModule required username=\"$ConnectionString\" password=\"{event_hub_conn_str}\";',\n",
    "    \"startingOffsets\": \"latest\",\n",
    "    \"failOnDataLoss\": \"false\"\n",
    "}\n",
    "\n",
    "#Read from Eventhub\n",
    "\n",
    "raw_df = (spark.readStream\n",
    "           .format(\"kafka\")\n",
    "           .options(**kafka_options)\n",
    "           .load()\n",
    ")\n",
    "\n",
    "# cast raw data to json string\n",
    "json_df = raw_df.selectExpr(\"CAST(value AS STRING) AS raw_json\")\n",
    "\n",
    "\n",
    "# ADLS configuration\n",
    "spark.conf.set(\n",
    "    \"fs.azure.account.key.hospitalstorageaccnt.dfs.core.windows.net\",\n",
    "    dbutils.secrets.get(scope = \"hospitalkeyvault\", key = \"storage-conn\")\n",
    ")\n",
    "\n",
    "bronze_path = \"abfss://bronze@hospitalstorageaccnt.dfs.core.windows.net/patient_flow\"\n",
    "\n",
    "# write stream of raw data\n",
    "\n",
    "(\n",
    "    json_df\n",
    "    .writeStream\n",
    "    .format(\"delta\")\n",
    "    .outputMode(\"append\")\n",
    "    .option(\"checkpointLocation\",\"dbfs:/mnt/bronze/_checkpoints/patient_flow\")\n",
    "    .start(bronze_path)\n",
    ")\n",
    "\n"
   ]
  },
  {
   "cell_type": "code",
   "execution_count": null,
   "id": "a62b30ae",
   "metadata": {},
   "outputs": [],
   "source": [
    "display(spark.read.format(\"delta\").load(bronze_path))"
   ]
  },
  {
   "cell_type": "code",
   "execution_count": null,
   "id": "641b6b79",
   "metadata": {},
   "outputs": [],
   "source": [
    "dbutils.secrets.get(\"hospitalkeyvault\", \"storage-conn\")"
   ]
  },
  {
   "cell_type": "code",
   "execution_count": null,
   "id": "086d58c6",
   "metadata": {},
   "outputs": [],
   "source": [
    "dbutils.secrets.get(\"hospitalkeyvault\",\"eventhub-conn\")"
   ]
  },
  {
   "cell_type": "code",
   "execution_count": null,
   "id": "978de3d3",
   "metadata": {},
   "outputs": [],
   "source": [
    "dbutils.secrets.listScopes()"
   ]
  },
  {
   "cell_type": "code",
   "execution_count": null,
   "id": "9b8dfbeb",
   "metadata": {},
   "outputs": [],
   "source": [
    "dbutils.secrets.list(\"hospitalkeyvault\")"
   ]
  }
 ],
 "metadata": {
  "language_info": {
   "name": "python"
  }
 },
 "nbformat": 4,
 "nbformat_minor": 5
}
